{
 "cells": [
  {
   "cell_type": "code",
   "execution_count": 40,
   "id": "initial_id",
   "metadata": {
    "ExecuteTime": {
     "end_time": "2024-04-27T11:26:49.647072Z",
     "start_time": "2024-04-27T11:26:49.644523Z"
    },
    "collapsed": true
   },
   "outputs": [],
   "source": [
    "import pandas as pd\n",
    "import numpy as np\n",
    "import scipy.stats as stats\n",
    "import matplotlib.pyplot as plt\n",
    "import seaborn as sns\n",
    "from sklearn.preprocessing import StandardScaler\n",
    "from sklearn.model_selection import GridSearchCV\n",
    "from sklearn.ensemble import RandomForestRegressor\n",
    "from sklearn.model_selection import train_test_split\n",
    "from skmultiflow.drift_detection import ADWIN"
   ]
  },
  {
   "cell_type": "code",
   "execution_count": 41,
   "id": "1d91422269b2d660",
   "metadata": {
    "ExecuteTime": {
     "end_time": "2024-04-27T11:26:49.672338Z",
     "start_time": "2024-04-27T11:26:49.648081Z"
    }
   },
   "outputs": [
    {
     "data": {
      "text/html": [
       "<div>\n",
       "<style scoped>\n",
       "    .dataframe tbody tr th:only-of-type {\n",
       "        vertical-align: middle;\n",
       "    }\n",
       "\n",
       "    .dataframe tbody tr th {\n",
       "        vertical-align: top;\n",
       "    }\n",
       "\n",
       "    .dataframe thead th {\n",
       "        text-align: right;\n",
       "    }\n",
       "</style>\n",
       "<table border=\"1\" class=\"dataframe\">\n",
       "  <thead>\n",
       "    <tr style=\"text-align: right;\">\n",
       "      <th></th>\n",
       "      <th>longitude</th>\n",
       "      <th>latitude</th>\n",
       "      <th>housing_median_age</th>\n",
       "      <th>total_rooms</th>\n",
       "      <th>total_bedrooms</th>\n",
       "      <th>population</th>\n",
       "      <th>households</th>\n",
       "      <th>median_income</th>\n",
       "      <th>median_house_value</th>\n",
       "      <th>ocean_proximity</th>\n",
       "    </tr>\n",
       "  </thead>\n",
       "  <tbody>\n",
       "    <tr>\n",
       "      <th>0</th>\n",
       "      <td>-122.23</td>\n",
       "      <td>37.88</td>\n",
       "      <td>41.0</td>\n",
       "      <td>880.0</td>\n",
       "      <td>129.0</td>\n",
       "      <td>322.0</td>\n",
       "      <td>126.0</td>\n",
       "      <td>8.3252</td>\n",
       "      <td>452600.0</td>\n",
       "      <td>NEAR BAY</td>\n",
       "    </tr>\n",
       "    <tr>\n",
       "      <th>1</th>\n",
       "      <td>-122.22</td>\n",
       "      <td>37.86</td>\n",
       "      <td>21.0</td>\n",
       "      <td>7099.0</td>\n",
       "      <td>1106.0</td>\n",
       "      <td>2401.0</td>\n",
       "      <td>1138.0</td>\n",
       "      <td>8.3014</td>\n",
       "      <td>358500.0</td>\n",
       "      <td>NEAR BAY</td>\n",
       "    </tr>\n",
       "    <tr>\n",
       "      <th>2</th>\n",
       "      <td>-122.24</td>\n",
       "      <td>37.85</td>\n",
       "      <td>52.0</td>\n",
       "      <td>1467.0</td>\n",
       "      <td>190.0</td>\n",
       "      <td>496.0</td>\n",
       "      <td>177.0</td>\n",
       "      <td>7.2574</td>\n",
       "      <td>352100.0</td>\n",
       "      <td>NEAR BAY</td>\n",
       "    </tr>\n",
       "    <tr>\n",
       "      <th>3</th>\n",
       "      <td>-122.25</td>\n",
       "      <td>37.85</td>\n",
       "      <td>52.0</td>\n",
       "      <td>1274.0</td>\n",
       "      <td>235.0</td>\n",
       "      <td>558.0</td>\n",
       "      <td>219.0</td>\n",
       "      <td>5.6431</td>\n",
       "      <td>341300.0</td>\n",
       "      <td>NEAR BAY</td>\n",
       "    </tr>\n",
       "    <tr>\n",
       "      <th>4</th>\n",
       "      <td>-122.25</td>\n",
       "      <td>37.85</td>\n",
       "      <td>52.0</td>\n",
       "      <td>1627.0</td>\n",
       "      <td>280.0</td>\n",
       "      <td>565.0</td>\n",
       "      <td>259.0</td>\n",
       "      <td>3.8462</td>\n",
       "      <td>342200.0</td>\n",
       "      <td>NEAR BAY</td>\n",
       "    </tr>\n",
       "    <tr>\n",
       "      <th>...</th>\n",
       "      <td>...</td>\n",
       "      <td>...</td>\n",
       "      <td>...</td>\n",
       "      <td>...</td>\n",
       "      <td>...</td>\n",
       "      <td>...</td>\n",
       "      <td>...</td>\n",
       "      <td>...</td>\n",
       "      <td>...</td>\n",
       "      <td>...</td>\n",
       "    </tr>\n",
       "    <tr>\n",
       "      <th>20635</th>\n",
       "      <td>-121.09</td>\n",
       "      <td>39.48</td>\n",
       "      <td>25.0</td>\n",
       "      <td>1665.0</td>\n",
       "      <td>374.0</td>\n",
       "      <td>845.0</td>\n",
       "      <td>330.0</td>\n",
       "      <td>1.5603</td>\n",
       "      <td>78100.0</td>\n",
       "      <td>INLAND</td>\n",
       "    </tr>\n",
       "    <tr>\n",
       "      <th>20636</th>\n",
       "      <td>-121.21</td>\n",
       "      <td>39.49</td>\n",
       "      <td>18.0</td>\n",
       "      <td>697.0</td>\n",
       "      <td>150.0</td>\n",
       "      <td>356.0</td>\n",
       "      <td>114.0</td>\n",
       "      <td>2.5568</td>\n",
       "      <td>77100.0</td>\n",
       "      <td>INLAND</td>\n",
       "    </tr>\n",
       "    <tr>\n",
       "      <th>20637</th>\n",
       "      <td>-121.22</td>\n",
       "      <td>39.43</td>\n",
       "      <td>17.0</td>\n",
       "      <td>2254.0</td>\n",
       "      <td>485.0</td>\n",
       "      <td>1007.0</td>\n",
       "      <td>433.0</td>\n",
       "      <td>1.7000</td>\n",
       "      <td>92300.0</td>\n",
       "      <td>INLAND</td>\n",
       "    </tr>\n",
       "    <tr>\n",
       "      <th>20638</th>\n",
       "      <td>-121.32</td>\n",
       "      <td>39.43</td>\n",
       "      <td>18.0</td>\n",
       "      <td>1860.0</td>\n",
       "      <td>409.0</td>\n",
       "      <td>741.0</td>\n",
       "      <td>349.0</td>\n",
       "      <td>1.8672</td>\n",
       "      <td>84700.0</td>\n",
       "      <td>INLAND</td>\n",
       "    </tr>\n",
       "    <tr>\n",
       "      <th>20639</th>\n",
       "      <td>-121.24</td>\n",
       "      <td>39.37</td>\n",
       "      <td>16.0</td>\n",
       "      <td>2785.0</td>\n",
       "      <td>616.0</td>\n",
       "      <td>1387.0</td>\n",
       "      <td>530.0</td>\n",
       "      <td>2.3886</td>\n",
       "      <td>89400.0</td>\n",
       "      <td>INLAND</td>\n",
       "    </tr>\n",
       "  </tbody>\n",
       "</table>\n",
       "<p>20433 rows × 10 columns</p>\n",
       "</div>"
      ],
      "text/plain": [
       "       longitude  latitude  housing_median_age  total_rooms  total_bedrooms  \\\n",
       "0        -122.23     37.88                41.0        880.0           129.0   \n",
       "1        -122.22     37.86                21.0       7099.0          1106.0   \n",
       "2        -122.24     37.85                52.0       1467.0           190.0   \n",
       "3        -122.25     37.85                52.0       1274.0           235.0   \n",
       "4        -122.25     37.85                52.0       1627.0           280.0   \n",
       "...          ...       ...                 ...          ...             ...   \n",
       "20635    -121.09     39.48                25.0       1665.0           374.0   \n",
       "20636    -121.21     39.49                18.0        697.0           150.0   \n",
       "20637    -121.22     39.43                17.0       2254.0           485.0   \n",
       "20638    -121.32     39.43                18.0       1860.0           409.0   \n",
       "20639    -121.24     39.37                16.0       2785.0           616.0   \n",
       "\n",
       "       population  households  median_income  median_house_value  \\\n",
       "0           322.0       126.0         8.3252            452600.0   \n",
       "1          2401.0      1138.0         8.3014            358500.0   \n",
       "2           496.0       177.0         7.2574            352100.0   \n",
       "3           558.0       219.0         5.6431            341300.0   \n",
       "4           565.0       259.0         3.8462            342200.0   \n",
       "...           ...         ...            ...                 ...   \n",
       "20635       845.0       330.0         1.5603             78100.0   \n",
       "20636       356.0       114.0         2.5568             77100.0   \n",
       "20637      1007.0       433.0         1.7000             92300.0   \n",
       "20638       741.0       349.0         1.8672             84700.0   \n",
       "20639      1387.0       530.0         2.3886             89400.0   \n",
       "\n",
       "      ocean_proximity  \n",
       "0            NEAR BAY  \n",
       "1            NEAR BAY  \n",
       "2            NEAR BAY  \n",
       "3            NEAR BAY  \n",
       "4            NEAR BAY  \n",
       "...               ...  \n",
       "20635          INLAND  \n",
       "20636          INLAND  \n",
       "20637          INLAND  \n",
       "20638          INLAND  \n",
       "20639          INLAND  \n",
       "\n",
       "[20433 rows x 10 columns]"
      ]
     },
     "execution_count": 41,
     "metadata": {},
     "output_type": "execute_result"
    }
   ],
   "source": [
    "housing_dataset = pd.read_csv('housing.csv')\n",
    "housing_dataset.dropna(inplace=True)\n",
    "housing_dataset"
   ]
  },
  {
   "cell_type": "markdown",
   "id": "884cd860741113ec",
   "metadata": {},
   "source": [
    "# Preparing data\n",
    "Make it look like a Gaussion Bell Curve"
   ]
  },
  {
   "cell_type": "code",
   "execution_count": 42,
   "id": "ca46491d5c9f8d4",
   "metadata": {
    "ExecuteTime": {
     "end_time": "2024-04-27T11:26:50.433694Z",
     "start_time": "2024-04-27T11:26:50.428552Z"
    }
   },
   "outputs": [],
   "source": [
    "dataset = housing_dataset.copy()\n",
    "dataset['total_rooms'] = np.log(dataset['total_rooms'] + 1 )\n",
    "dataset['total_bedrooms'] = np.log(dataset['total_bedrooms'] + 1 )\n",
    "dataset['population'] = np.log(dataset['population'] + 1 )\n",
    "dataset['households'] = np.log(dataset['households'] + 1 )"
   ]
  },
  {
   "cell_type": "markdown",
   "id": "9c2ed84b7377c13c",
   "metadata": {},
   "source": [
    "Turn Ocean Proximity into Numerical Attribute"
   ]
  },
  {
   "cell_type": "code",
   "execution_count": 43,
   "id": "6878ab75f5d51027",
   "metadata": {
    "ExecuteTime": {
     "end_time": "2024-04-27T11:26:51.188511Z",
     "start_time": "2024-04-27T11:26:51.181955Z"
    }
   },
   "outputs": [],
   "source": [
    "dataset = dataset.join(pd.get_dummies(dataset.ocean_proximity)).drop(['ocean_proximity'], axis=1)"
   ]
  },
  {
   "cell_type": "code",
   "execution_count": 44,
   "id": "4819544348dfd2e1",
   "metadata": {
    "ExecuteTime": {
     "end_time": "2024-04-27T11:26:52.653666Z",
     "start_time": "2024-04-27T11:26:52.643143Z"
    }
   },
   "outputs": [],
   "source": [
    "X = dataset.drop(['median_house_value'], axis=1)\n",
    "y = dataset['median_house_value']"
   ]
  },
  {
   "cell_type": "markdown",
   "id": "6da3ac8c5f25ff68",
   "metadata": {},
   "source": [
    "# Drift Detection"
   ]
  },
  {
   "cell_type": "markdown",
   "id": "d5228679",
   "metadata": {},
   "source": [
    "## Kolmonogorov-Smirnov (K-S) Test\n",
    "A test used for detecting whether two samples come from the same distribution. This way we can detect a drift in feature's distribution(only for continuous distribution) or target drift. \n",
    "\n",
    "We are gonna use it to see the difference in distributions of target variable for different values of ocean_proximity. We want to check whether the distribution of the price of houses changes depending on the distance to the ocean."
   ]
  },
  {
   "cell_type": "code",
   "execution_count": 45,
   "id": "b0e3f805",
   "metadata": {},
   "outputs": [
    {
     "data": {
      "image/png": "[encoded data removed]",
      "text/plain": [
       "<Figure size 500x400 with 2 Axes>"
      ]
     },
     "metadata": {},
     "output_type": "display_data"
    }
   ],
   "source": [
    "# Checking how different are target distributions for different ocean proximity\n",
    "ocean_proximities = housing_dataset.ocean_proximity.unique()\n",
    "ocean_proximities_datasets = [housing_dataset[housing_dataset.ocean_proximity == ocean_proximity].median_house_value for ocean_proximity in ocean_proximities]\n",
    "\n",
    "size = len(ocean_proximities)\n",
    "p_values_matrix = np.zeros((size, size))\n",
    "# Compute p-values for each pair of distributions\n",
    "for i in range(size):\n",
    "    for j in range(size):\n",
    "        result = stats.kstest(ocean_proximities_datasets[i], ocean_proximities_datasets[j]) # The null hypothesis is that the two distributions are identical\n",
    "        p_values_matrix[i, j] = result.pvalue\n",
    "\n",
    "# Create heatmap of p-values\n",
    "plt.figure(figsize=(5, 4))\n",
    "sns.heatmap(p_values_matrix, annot=True, cmap=\"YlGnBu\", xticklabels=ocean_proximities, yticklabels=ocean_proximities)\n",
    "plt.title(\"K-S Test p-values between different ocean proximities\")\n",
    "plt.show()"
   ]
  },
  {
   "cell_type": "markdown",
   "id": "67e45bc9",
   "metadata": {},
   "source": [
    "Clearly distributions of target values are different for different ocean proximity, since the p-value is lower than 3% for all of the pairs "
   ]
  },
  {
   "cell_type": "markdown",
   "id": "fdfd7577",
   "metadata": {},
   "source": [
    "##  ADaptive WINdowing Drift Detection\n",
    "\n",
    "This algorithm detects concept drift in the stream of data. For that we use our data sorted by longitude."
   ]
  },
  {
   "cell_type": "markdown",
   "id": "9301e6be",
   "metadata": {},
   "source": [
    "### Testing sorted data's target value for data drift"
   ]
  },
  {
   "cell_type": "code",
   "execution_count": 46,
   "id": "83376142",
   "metadata": {},
   "outputs": [],
   "source": [
    "ddm = ADWIN()\n",
    "\n",
    "detected_changes = []\n",
    "\n",
    "for index, value  in y.items():\n",
    "    ddm.add_element(value)\n",
    "    if ddm.detected_change():\n",
    "        detected_changes.append(index)\n",
    "        #print('Change has been detected in data: ' + str(value) + ' - of index: ' + str(index))"
   ]
  },
  {
   "cell_type": "code",
   "execution_count": 47,
   "id": "597fd2b9",
   "metadata": {},
   "outputs": [
    {
     "data": {
      "image/png": "[encoded data removed]",
      "text/plain": [
       "<Figure size 1000x500 with 1 Axes>"
      ]
     },
     "metadata": {},
     "output_type": "display_data"
    }
   ],
   "source": [
    "def plot_index_distribution(indexes):\n",
    "    plt.figure(figsize=(10, 5))\n",
    "    plt.hist(indexes, bins=len(set(indexes))//2, color='blue', edgecolor='black')\n",
    "    plt.title('Distribution of Detected Changes')\n",
    "    plt.xlabel('Indexes')\n",
    "    plt.ylabel('Frequency')\n",
    "    plt.show()\n",
    "\n",
    "plot_index_distribution(detected_changes)"
   ]
  },
  {
   "cell_type": "markdown",
   "id": "d0296c11",
   "metadata": {},
   "source": [
    "The algorithm detects lots of changes in the distribution, hence we can conclude that the distribution of house prices changes as we move with the location from south to north."
   ]
  },
  {
   "cell_type": "markdown",
   "id": "483232e8",
   "metadata": {},
   "source": [
    "### Testing if the model can deal with such data drift"
   ]
  },
  {
   "cell_type": "markdown",
   "id": "c50859e4",
   "metadata": {},
   "source": [
    "For that we devide our data into two parts: north and south and we train the model only on one part and then we evaluate the model on the other part."
   ]
  },
  {
   "cell_type": "code",
   "execution_count": 48,
   "id": "e08fffb0",
   "metadata": {},
   "outputs": [],
   "source": [
    "# Proportion is for diving into evaluation and train/test\n",
    "def get_stream_data_model(X, y, proportion = 0.5, logging = 1): \n",
    "\n",
    "    midpoint = int(len(X)*proportion)\n",
    "\n",
    "    # Data for training and testing\n",
    "    X_test_and_train = X.iloc[:midpoint]\n",
    "    y_test_and_train = y.iloc[:midpoint]\n",
    "\n",
    "    # Data that comes in a stream for evaluation\n",
    "    X_stream = X.iloc[midpoint:]\n",
    "    y_stream = y.iloc[midpoint:]\n",
    "\n",
    "    X_train, X_test, y_train, y_test = train_test_split(X_test_and_train, y_test_and_train, test_size=0.3, random_state=0)\n",
    "\n",
    "    scaler = StandardScaler()\n",
    "    X_train_scaled = scaler.fit_transform(X_train)\n",
    "    X_test_scaled = scaler.transform(X_test)\n",
    "    X_stream_scaled = scaler.transform(X_stream)\n",
    "\n",
    "    forest = RandomForestRegressor( random_state=0) \n",
    "\n",
    "    param_grid = {\n",
    "        'n_estimators': [30, 50, 100],\n",
    "        'max_features': [6, 8, 12],\n",
    "        \"min_samples_split\": [2, 4, 6, 8],\n",
    "    }\n",
    "\n",
    "    grid_search = GridSearchCV(estimator=forest, param_grid=param_grid, cv=5, scoring='neg_mean_squared_error', return_train_score=True, verbose = logging, n_jobs = -1)\n",
    "    grid_search.fit(X_train_scaled, y_train)\n",
    "\n",
    "    # Score on test data \n",
    "    test_score = grid_search.best_estimator_.score(X_test_scaled, y_test)\n",
    "\n",
    "    if(logging > 0):\n",
    "        print(\"Test score = \" + str(test_score))\n",
    "\n",
    "    return grid_search.best_estimator_ , X_stream_scaled, y_stream\n"
   ]
  },
  {
   "cell_type": "code",
   "execution_count": 49,
   "id": "d3a2f66e",
   "metadata": {},
   "outputs": [
    {
     "name": "stdout",
     "output_type": "stream",
     "text": [
      "Fitting 5 folds for each of 36 candidates, totalling 180 fits\n",
      "Test score = 0.8534904788893112\n"
     ]
    }
   ],
   "source": [
    "# Getting a model trained on first half of the stream in order to evaluate it on the other half of the stream\n",
    "ADWIN_best_forest, ADWIN_X_stream, ADWIN_y_stream = get_stream_data_model(X,y,logging=1, proportion=0.5)"
   ]
  },
  {
   "cell_type": "code",
   "execution_count": 53,
   "id": "fb017649",
   "metadata": {},
   "outputs": [
    {
     "name": "stdout",
     "output_type": "stream",
     "text": [
      "Evaluation score = 0.5699552939673751\n"
     ]
    }
   ],
   "source": [
    "# Evaluating the model on the other half of the stream\n",
    "print(\"Evaluation score = \" + str(ADWIN_best_forest.score(ADWIN_X_stream, ADWIN_y_stream)))"
   ]
  },
  {
   "cell_type": "markdown",
   "id": "f0557a92",
   "metadata": {},
   "source": [
    "The results are much worse than desirable. This model doesn't adapt well to this change in data."
   ]
  },
  {
   "cell_type": "markdown",
   "id": "6938b32f",
   "metadata": {},
   "source": [
    "### Testing whether adding feature engineering helps the model\n",
    "Let's see the same experiment but with feature engineering."
   ]
  },
  {
   "cell_type": "code",
   "execution_count": 51,
   "id": "638cdd33",
   "metadata": {},
   "outputs": [],
   "source": [
    "X_feature_engineering = X.copy()\n",
    "X_feature_engineering['bedroom_ratio'] = X['total_bedrooms'] / X['total_rooms']\n",
    "X_feature_engineering['households_rooms'] = X['total_rooms'] / X['households']"
   ]
  },
  {
   "cell_type": "code",
   "execution_count": 52,
   "id": "8e1c2b83",
   "metadata": {},
   "outputs": [
    {
     "name": "stdout",
     "output_type": "stream",
     "text": [
      "Fitting 5 folds for each of 36 candidates, totalling 180 fits\n",
      "Test score = 0.8496711726061685\n",
      "Evaluation score = 0.6064177788594036\n"
     ]
    }
   ],
   "source": [
    "# Getting a model trained on first half of the stream in order to evaluate it on the other half of the stream\n",
    "ADWIN_best_forest_feature_engineering, ADWIN_X_feature_engineering_stream, ADWIN_y_feature_engineering_stream = get_stream_data_model(X_feature_engineering,y,logging=1, proportion=0.5)\n",
    "print(\"Evaluation score = \" + str(ADWIN_best_forest_feature_engineering.score(ADWIN_X_feature_engineering_stream, ADWIN_y_feature_engineering_stream)))"
   ]
  },
  {
   "cell_type": "markdown",
   "id": "ed1207b9",
   "metadata": {},
   "source": [
    "The results are slightly better but still far from desirable."
   ]
  }
 ],
 "metadata": {
  "kernelspec": {
   "display_name": "Python 3",
   "language": "python",
   "name": "python3"
  },
  "language_info": {
   "codemirror_mode": {
    "name": "ipython",
    "version": 3
   },
   "file_extension": ".py",
   "mimetype": "text/x-python",
   "name": "python",
   "nbconvert_exporter": "python",
   "pygments_lexer": "ipython3",
   "version": "3.9.18"
  }
 },
 "nbformat": 4,
 "nbformat_minor": 5
}
